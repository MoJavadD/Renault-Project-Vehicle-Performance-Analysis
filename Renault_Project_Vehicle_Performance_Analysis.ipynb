{
  "nbformat": 4,
  "nbformat_minor": 0,
  "metadata": {
    "colab": {
      "provenance": []
    },
    "kernelspec": {
      "name": "python3",
      "display_name": "Python 3"
    },
    "language_info": {
      "name": "python"
    }
  },
  "cells": [
    {
      "cell_type": "code",
      "execution_count": null,
      "metadata": {
        "id": "TeCu5Y2GHuGr"
      },
      "outputs": [],
      "source": [
        "import pandas as pd\n",
        "import numpy as np\n",
        "from sklearn.model_selection import train_test_split\n",
        "from sklearn.ensemble import RandomForestRegressor\n",
        "from sklearn.metrics import mean_squared_error, r2_score\n",
        "import matplotlib.pyplot as plt"
      ]
    },
    {
      "cell_type": "code",
      "source": [
        "\n",
        "# Load the dataset\n",
        "dataset_path = 'dataset.csv'\n",
        "df = pd.read_csv(dataset_path)"
      ],
      "metadata": {
        "id": "x_oQ-kWMH2qF"
      },
      "execution_count": null,
      "outputs": []
    },
    {
      "cell_type": "code",
      "source": [
        "# Handling Missing Values\n",
        "print(\"\\nHandling Missing Values:\")\n",
        "print(\"Before handling missing values:\")\n",
        "print(df.isnull().sum())"
      ],
      "metadata": {
        "id": "_Wr12uaOH2st"
      },
      "execution_count": null,
      "outputs": []
    },
    {
      "cell_type": "code",
      "source": [
        "df.fillna(df.mean(), inplace=True)"
      ],
      "metadata": {
        "id": "ciBPYWgCH2vT"
      },
      "execution_count": null,
      "outputs": []
    },
    {
      "cell_type": "code",
      "source": [
        "X = df.drop('performance_metric', axis=1)\n",
        "y = df['performance_metric']"
      ],
      "metadata": {
        "id": "WhUlGrf-H2yL"
      },
      "execution_count": null,
      "outputs": []
    },
    {
      "cell_type": "code",
      "source": [
        "# Split the data into training and testing sets\n",
        "X_train, X_test, y_train, y_test = train_test_split(X, y, test_size=0.2, random_state=42)\n"
      ],
      "metadata": {
        "id": "8GPXi3JNH208"
      },
      "execution_count": null,
      "outputs": []
    },
    {
      "cell_type": "code",
      "source": [
        "# Model Training\n",
        "model = RandomForestRegressor(n_estimators=100, random_state=42)\n",
        "model.fit(X_train, y_train)\n"
      ],
      "metadata": {
        "id": "inNRJMuIH237"
      },
      "execution_count": null,
      "outputs": []
    },
    {
      "cell_type": "code",
      "source": [
        "# Model Evaluation\n",
        "y_pred = model.predict(X_test)"
      ],
      "metadata": {
        "id": "SZSx7uRkH266"
      },
      "execution_count": null,
      "outputs": []
    },
    {
      "cell_type": "code",
      "source": [
        "mse = mean_squared_error(y_test, y_pred)\n",
        "r2 = r2_score(y_test, y_pred)\n",
        "\n",
        "print(f'Mean Squared Error: {mse}')\n",
        "print(f'R2 Score: {r2}')"
      ],
      "metadata": {
        "id": "VmmuU3toH294"
      },
      "execution_count": null,
      "outputs": []
    },
    {
      "cell_type": "code",
      "source": [
        "# Feature Importance Analysis\n",
        "feature_importances = model.feature_importances_\n",
        "feature_names = X.columns\n",
        "sorted_idx = np.argsort(feature_importances)[::-1]"
      ],
      "metadata": {
        "id": "h1OFs1BsH3BY"
      },
      "execution_count": null,
      "outputs": []
    },
    {
      "cell_type": "code",
      "source": [
        "# Plotting feature importance\n",
        "plt.bar(range(X.shape[1]), feature_importances[sorted_idx], align=\"center\")\n",
        "plt.xticks(range(X.shape[1]), feature_names[sorted_idx], rotation=45)\n",
        "plt.xlabel('Feature')\n",
        "plt.ylabel('Feature Importance')\n",
        "plt.title('Random Forest Feature Importance')\n",
        "plt.show()"
      ],
      "metadata": {
        "id": "CrOxfr9hH3EC"
      },
      "execution_count": null,
      "outputs": []
    },
    {
      "cell_type": "code",
      "source": [
        "# Predictions for New Data (Replace 'new_data.csv' with your new data file)\n",
        "new_data_path = 'ew_data.csv'\n",
        "new_data = pd.read_csv(new_data_path)\n",
        "\n",
        "new_predictions = model.predict(new_data)\n",
        "print('Predictions for New Data:')\n",
        "print(new_predictions)"
      ],
      "metadata": {
        "id": "1XJaalh6Ifiy"
      },
      "execution_count": null,
      "outputs": []
    },
    {
      "cell_type": "code",
      "source": [],
      "metadata": {
        "id": "kdloqJoOH3G_"
      },
      "execution_count": null,
      "outputs": []
    }
  ]
}